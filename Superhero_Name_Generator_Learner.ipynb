{
  "cells": [
    {
      "cell_type": "markdown",
      "metadata": {
        "id": "21XXWP7Fpt2L"
      },
      "source": [
        "# Superhero (and Supervillain) Name Generator\n",
        "\n",
        "---\n",
        "\n",
        "[Superhero Names Dataset](https://github.com/am1tyadav/superhero)"
      ]
    },
    {
      "cell_type": "markdown",
      "metadata": {
        "id": "H6P0NU5Cpt2R"
      },
      "source": [
        "## Task 2\n",
        "\n",
        "1. Import the data\n",
        "2. Create a tokenizer\n",
        "3. Char to index and Index to char dictionaries"
      ]
    },
    {
      "cell_type": "code",
      "execution_count": null,
      "metadata": {
        "colab": {
          "base_uri": "https://localhost:8080/"
        },
        "id": "srULhalZpt2M",
        "outputId": "84245629-b44b-4ded-b6a9-5d84679d2bc4"
      },
      "outputs": [
        {
          "output_type": "stream",
          "name": "stdout",
          "text": [
            "Cloning into 'superhero'...\n",
            "remote: Enumerating objects: 8, done.\u001b[K\n",
            "remote: Counting objects: 100% (8/8), done.\u001b[K\n",
            "remote: Compressing objects: 100% (7/7), done.\u001b[K\n",
            "remote: Total 8 (delta 0), reused 4 (delta 0), pack-reused 0\u001b[K\n",
            "Unpacking objects: 100% (8/8), done.\n"
          ]
        }
      ],
      "source": [
        "!git clone https://github.com/am1tyadav/superhero"
      ]
    },
    {
      "cell_type": "code",
      "execution_count": null,
      "metadata": {
        "colab": {
          "base_uri": "https://localhost:8080/",
          "height": 35
        },
        "id": "uq4CLmsLpt2P",
        "outputId": "e4eab1c3-bdb1-47c9-ba6b-a46608d84377"
      },
      "outputs": [
        {
          "output_type": "execute_result",
          "data": {
            "application/vnd.google.colaboratory.intrinsic+json": {
              "type": "string"
            },
            "text/plain": [
              "'jumpa\\t\\ndoctor fate\\t\\nstarlight\\t\\nisildur\\t\\nlasher\\t\\nvarvara\\t\\nthe target\\t\\naxel\\t\\nbattra\\t\\nchangeling\\t\\npyrrh'"
            ]
          },
          "metadata": {},
          "execution_count": 2
        }
      ],
      "source": [
        "with open('superhero/superheroes.txt','r') as f:\n",
        "  data=f.read()\n",
        "\n",
        "data[:100]"
      ]
    },
    {
      "cell_type": "code",
      "execution_count": null,
      "metadata": {
        "id": "JqhtLuAHpt2R",
        "colab": {
          "base_uri": "https://localhost:8080/"
        },
        "outputId": "374419a9-7043-482d-b84d-1d5ab89b3822"
      },
      "outputs": [
        {
          "output_type": "stream",
          "name": "stdout",
          "text": [
            "2.7.0\n"
          ]
        }
      ],
      "source": [
        "import tensorflow as tf\n",
        "print(tf.__version__)"
      ]
    },
    {
      "cell_type": "code",
      "execution_count": null,
      "metadata": {
        "id": "95Lo1Yqzpt2T"
      },
      "outputs": [],
      "source": [
        "tokenizer = tf.keras.preprocessing.text.Tokenizer(\n",
        "    filters='!\"#$%&()*+,-./:;<=>?@[\\\\]^_`{|}~',\n",
        "    split='\\n',\n",
        ")"
      ]
    },
    {
      "cell_type": "code",
      "execution_count": null,
      "metadata": {
        "id": "qYfC4sj2pt2V"
      },
      "outputs": [],
      "source": [
        "tokenizer.fit_on_texts(data)"
      ]
    },
    {
      "cell_type": "code",
      "execution_count": null,
      "metadata": {
        "id": "EO4-dPM6pt2X",
        "colab": {
          "base_uri": "https://localhost:8080/"
        },
        "outputId": "a2833283-792a-4b9f-8783-7d624276d251"
      },
      "outputs": [
        {
          "output_type": "stream",
          "name": "stdout",
          "text": [
            "{1: '\\t', 2: 'a', 3: 'e', 4: 'r', 5: 'o', 6: 'n', 7: 'i', 8: ' ', 9: 't', 10: 's', 11: 'l', 12: 'm', 13: 'h', 14: 'd', 15: 'c', 16: 'u', 17: 'g', 18: 'k', 19: 'b', 20: 'p', 21: 'y', 22: 'w', 23: 'f', 24: 'v', 25: 'j', 26: 'z', 27: 'x', 28: 'q'}\n"
          ]
        }
      ],
      "source": [
        "char_to_index=tokenizer.word_index\n",
        "index_to_char=dict((v,k) for k,v in char_to_index.items())\n",
        "\n",
        "print(index_to_char)"
      ]
    },
    {
      "cell_type": "markdown",
      "metadata": {
        "id": "SMwtIw_Bpt2Z"
      },
      "source": [
        "## Task 3\n",
        "\n",
        "1. Converting between names and sequences"
      ]
    },
    {
      "cell_type": "code",
      "execution_count": null,
      "metadata": {
        "id": "N7iQLIXzpt2a",
        "colab": {
          "base_uri": "https://localhost:8080/"
        },
        "outputId": "cfeb55e8-9f54-44fb-f406-7d2b9c3efec3"
      },
      "outputs": [
        {
          "output_type": "execute_result",
          "data": {
            "text/plain": [
              "['jumpa\\t',\n",
              " 'doctor fate\\t',\n",
              " 'starlight\\t',\n",
              " 'isildur\\t',\n",
              " 'lasher\\t',\n",
              " 'varvara\\t',\n",
              " 'the target\\t',\n",
              " 'axel\\t',\n",
              " 'battra\\t',\n",
              " 'changeling\\t']"
            ]
          },
          "metadata": {},
          "execution_count": 7
        }
      ],
      "source": [
        "names=data.splitlines()\n",
        "names[:10]"
      ]
    },
    {
      "cell_type": "code",
      "execution_count": null,
      "metadata": {
        "id": "n_-TTfqipt2c",
        "colab": {
          "base_uri": "https://localhost:8080/"
        },
        "outputId": "c91cfe43-cadb-4e1b-ca3f-f91d75807051"
      },
      "outputs": [
        {
          "output_type": "execute_result",
          "data": {
            "text/plain": [
              "[[25], [16], [12], [20], [2], [1]]"
            ]
          },
          "metadata": {},
          "execution_count": 8
        }
      ],
      "source": [
        "tokenizer.texts_to_sequences(names[0])"
      ]
    },
    {
      "cell_type": "code",
      "execution_count": null,
      "metadata": {
        "id": "P6IsKH1Upt2e"
      },
      "outputs": [],
      "source": [
        "def name_to_seq(name):\n",
        "  return [tokenizer.texts_to_sequences(c)[0][0] for c in name]"
      ]
    },
    {
      "cell_type": "code",
      "execution_count": null,
      "metadata": {
        "id": "TuLUiMP3pt2g",
        "colab": {
          "base_uri": "https://localhost:8080/"
        },
        "outputId": "0b00f56b-1aa1-425f-f1db-723846d92f99"
      },
      "outputs": [
        {
          "output_type": "execute_result",
          "data": {
            "text/plain": [
              "[25, 16, 12, 20, 2, 1]"
            ]
          },
          "metadata": {},
          "execution_count": 12
        }
      ],
      "source": [
        "name_to_seq(names[0])"
      ]
    },
    {
      "cell_type": "code",
      "execution_count": null,
      "metadata": {
        "id": "yFUYhimKpt2h"
      },
      "outputs": [],
      "source": [
        "def seq_to_name(seq):\n",
        "  return ''.join([index_to_char[i] for i in seq if i!=0])"
      ]
    },
    {
      "cell_type": "code",
      "execution_count": null,
      "metadata": {
        "id": "ROhCqmhLpt2k",
        "colab": {
          "base_uri": "https://localhost:8080/",
          "height": 35
        },
        "outputId": "1120eb76-2dbe-41ab-ada2-b6e69cf01edc"
      },
      "outputs": [
        {
          "output_type": "execute_result",
          "data": {
            "application/vnd.google.colaboratory.intrinsic+json": {
              "type": "string"
            },
            "text/plain": [
              "'jumpa\\t'"
            ]
          },
          "metadata": {},
          "execution_count": 14
        }
      ],
      "source": [
        "seq_to_name(name_to_seq(names[0]))"
      ]
    },
    {
      "cell_type": "markdown",
      "metadata": {
        "id": "uCbAzsNjpt2m"
      },
      "source": [
        "## Task 4\n",
        "\n",
        "1. Creating sequences\n",
        "2. Padding all sequences"
      ]
    },
    {
      "cell_type": "code",
      "execution_count": null,
      "metadata": {
        "id": "zstNn-0dpt2m"
      },
      "outputs": [],
      "source": [
        "sequences=[]\n",
        "for name in names:\n",
        "  seq=name_to_seq(name)\n",
        "  if len(seq)>=2:\n",
        "    sequences += [seq[:i] for i in range(2,len(seq)+1)]"
      ]
    },
    {
      "cell_type": "code",
      "execution_count": null,
      "metadata": {
        "id": "BjRTMysvpt2o",
        "colab": {
          "base_uri": "https://localhost:8080/"
        },
        "outputId": "b3da5a95-ccc1-421b-f964-278271c9f821"
      },
      "outputs": [
        {
          "output_type": "execute_result",
          "data": {
            "text/plain": [
              "[[25, 16],\n",
              " [25, 16, 12],\n",
              " [25, 16, 12, 20],\n",
              " [25, 16, 12, 20, 2],\n",
              " [25, 16, 12, 20, 2, 1],\n",
              " [14, 5],\n",
              " [14, 5, 15],\n",
              " [14, 5, 15, 9],\n",
              " [14, 5, 15, 9, 5],\n",
              " [14, 5, 15, 9, 5, 4]]"
            ]
          },
          "metadata": {},
          "execution_count": 19
        }
      ],
      "source": [
        "sequences[:10]"
      ]
    },
    {
      "cell_type": "code",
      "execution_count": null,
      "metadata": {
        "id": "SR68pu2tpt2q",
        "colab": {
          "base_uri": "https://localhost:8080/"
        },
        "outputId": "fcd675d7-95da-4074-abc9-5df5dedf135e"
      },
      "outputs": [
        {
          "output_type": "stream",
          "name": "stdout",
          "text": [
            "33\n"
          ]
        }
      ],
      "source": [
        "max_len = max([len(x) for x in sequences])\n",
        "print(max_len)"
      ]
    },
    {
      "cell_type": "code",
      "execution_count": null,
      "metadata": {
        "id": "h_1BtWO7pt2r",
        "colab": {
          "base_uri": "https://localhost:8080/"
        },
        "outputId": "e813a26f-0427-443d-eee6-f732187a46e4"
      },
      "outputs": [
        {
          "output_type": "stream",
          "name": "stdout",
          "text": [
            "[ 0  0  0  0  0  0  0  0  0  0  0  0  0  0  0  0  0  0  0  0  0  0  0  0\n",
            "  0  0  0  0  0  0  0 25 16]\n"
          ]
        }
      ],
      "source": [
        "padded_sequences = tf.keras.preprocessing.sequence.pad_sequences(\n",
        "    sequences, padding ='pre',\n",
        "    maxlen =max_len\n",
        "\n",
        ")\n",
        "print(padded_sequences[0])"
      ]
    },
    {
      "cell_type": "code",
      "execution_count": null,
      "metadata": {
        "id": "sPlrLRpSpt2t",
        "colab": {
          "base_uri": "https://localhost:8080/"
        },
        "outputId": "b3b67b6f-a475-4f28-af04-b07a8fbbae6b"
      },
      "outputs": [
        {
          "output_type": "execute_result",
          "data": {
            "text/plain": [
              "(88279, 33)"
            ]
          },
          "metadata": {},
          "execution_count": 23
        }
      ],
      "source": [
        "padded_sequences.shape"
      ]
    },
    {
      "cell_type": "markdown",
      "metadata": {
        "id": "8siqub0nZgnC"
      },
      "source": [
        "## Task 5: Creating Training and Validation Sets\n",
        "\n",
        "1. Creating training and validation sets"
      ]
    },
    {
      "cell_type": "code",
      "execution_count": null,
      "metadata": {
        "id": "BE4BIeSnpt2v",
        "colab": {
          "base_uri": "https://localhost:8080/"
        },
        "outputId": "34f41d4c-d2ba-4acc-a276-0d47e3ecc653"
      },
      "outputs": [
        {
          "output_type": "stream",
          "name": "stdout",
          "text": [
            "(88279, 32) (88279,)\n"
          ]
        }
      ],
      "source": [
        "x,y = padded_sequences[:,:-1],padded_sequences[:, -1]\n",
        "print(x.shape,y.shape)"
      ]
    },
    {
      "cell_type": "code",
      "execution_count": null,
      "metadata": {
        "id": "STnvtRKfZgnD",
        "colab": {
          "base_uri": "https://localhost:8080/"
        },
        "outputId": "37b4ad44-699c-47d6-c4ae-2174bf9d5e7f"
      },
      "outputs": [
        {
          "output_type": "stream",
          "name": "stdout",
          "text": [
            "(66209, 32) (66209,)\n",
            "(22070, 32) (22070,)\n"
          ]
        }
      ],
      "source": [
        "from sklearn.model_selection import train_test_split\n",
        "\n",
        "x_train, x_test, y_train, y_test= train_test_split(x,y)\n",
        "print(x_train.shape,y_train.shape)\n",
        "print(x_test.shape, y_test.shape)"
      ]
    },
    {
      "cell_type": "code",
      "execution_count": null,
      "metadata": {
        "id": "cgqRZtqnpt2x",
        "colab": {
          "base_uri": "https://localhost:8080/"
        },
        "outputId": "8447c5d3-d113-4197-aab3-a3e86314fbcd"
      },
      "outputs": [
        {
          "output_type": "stream",
          "name": "stdout",
          "text": [
            "29\n"
          ]
        }
      ],
      "source": [
        "num_chars = len(char_to_index.keys()) + 1\n",
        "print(num_chars)"
      ]
    },
    {
      "cell_type": "markdown",
      "metadata": {
        "id": "uL06nmHnZgnD"
      },
      "source": [
        "## Task 6: Creating the Model"
      ]
    },
    {
      "cell_type": "code",
      "execution_count": null,
      "metadata": {
        "id": "TkmKevuMZgnE",
        "colab": {
          "base_uri": "https://localhost:8080/"
        },
        "outputId": "4cbe4fbb-7495-41a7-dd18-66bab922b7c4"
      },
      "outputs": [
        {
          "output_type": "stream",
          "name": "stdout",
          "text": [
            "Model: \"sequential\"\n",
            "_________________________________________________________________\n",
            " Layer (type)                Output Shape              Param #   \n",
            "=================================================================\n",
            " embedding_1 (Embedding)     (None, 32, 8)             232       \n",
            "                                                                 \n",
            " conv1d_1 (Conv1D)           (None, 32, 64)            2624      \n",
            "                                                                 \n",
            " max_pooling1d (MaxPooling1D  (None, 16, 64)           0         \n",
            " )                                                               \n",
            "                                                                 \n",
            " lstm (LSTM)                 (None, 32)                12416     \n",
            "                                                                 \n",
            " dense (Dense)               (None, 29)                957       \n",
            "                                                                 \n",
            "=================================================================\n",
            "Total params: 16,229\n",
            "Trainable params: 16,229\n",
            "Non-trainable params: 0\n",
            "_________________________________________________________________\n"
          ]
        }
      ],
      "source": [
        "from tensorflow.keras.models import Sequential\n",
        "from tensorflow.keras.layers import Embedding, Conv1D, MaxPool1D, LSTM\n",
        "from tensorflow.keras.layers import Bidirectional, Dense\n",
        "\n",
        "model=Sequential([ \n",
        "                  Embedding(num_chars, 8, input_length=max_len-1),\n",
        "                  Conv1D(64, 5, strides=1, activation ='tanh', padding='causal'),\n",
        "                  MaxPool1D(2),\n",
        "                  LSTM(32),\n",
        "                  Dense(num_chars, activation ='softmax')\n",
        "])\n",
        "\n",
        "model.compile(\n",
        "    loss='sparse_categorical_crossentropy',\n",
        "    optimizer='adam',\n",
        "    metrics=['accuracy']\n",
        ")\n",
        "model.summary()"
      ]
    },
    {
      "cell_type": "markdown",
      "metadata": {
        "id": "JQxelZdpZgnE"
      },
      "source": [
        "## Task 7: Training the Model"
      ]
    },
    {
      "cell_type": "code",
      "execution_count": null,
      "metadata": {
        "id": "j0Ssl4qupt22",
        "colab": {
          "base_uri": "https://localhost:8080/"
        },
        "outputId": "e310c7d6-e49c-47f7-f18b-4e61e99737f2"
      },
      "outputs": [
        {
          "output_type": "stream",
          "name": "stdout",
          "text": [
            "Epoch 1/50\n",
            "2070/2070 - 42s - loss: 2.7316 - accuracy: 0.1947 - val_loss: 2.5779 - val_accuracy: 0.2230 - 42s/epoch - 20ms/step\n",
            "Epoch 2/50\n",
            "2070/2070 - 26s - loss: 2.5239 - accuracy: 0.2382 - val_loss: 2.5065 - val_accuracy: 0.2468 - 26s/epoch - 12ms/step\n",
            "Epoch 3/50\n",
            "2070/2070 - 26s - loss: 2.4636 - accuracy: 0.2558 - val_loss: 2.4553 - val_accuracy: 0.2547 - 26s/epoch - 13ms/step\n",
            "Epoch 4/50\n",
            "2070/2070 - 26s - loss: 2.4141 - accuracy: 0.2665 - val_loss: 2.4133 - val_accuracy: 0.2697 - 26s/epoch - 12ms/step\n",
            "Epoch 5/50\n",
            "2070/2070 - 26s - loss: 2.3722 - accuracy: 0.2801 - val_loss: 2.3786 - val_accuracy: 0.2820 - 26s/epoch - 12ms/step\n",
            "Epoch 6/50\n",
            "2070/2070 - 26s - loss: 2.3387 - accuracy: 0.2901 - val_loss: 2.3565 - val_accuracy: 0.2880 - 26s/epoch - 12ms/step\n",
            "Epoch 7/50\n",
            "2070/2070 - 27s - loss: 2.3108 - accuracy: 0.2995 - val_loss: 2.3439 - val_accuracy: 0.2946 - 27s/epoch - 13ms/step\n",
            "Epoch 8/50\n",
            "2070/2070 - 26s - loss: 2.2878 - accuracy: 0.3046 - val_loss: 2.3227 - val_accuracy: 0.2964 - 26s/epoch - 12ms/step\n",
            "Epoch 9/50\n",
            "2070/2070 - 27s - loss: 2.2654 - accuracy: 0.3129 - val_loss: 2.3062 - val_accuracy: 0.3043 - 27s/epoch - 13ms/step\n",
            "Epoch 10/50\n",
            "2070/2070 - 26s - loss: 2.2454 - accuracy: 0.3205 - val_loss: 2.3000 - val_accuracy: 0.3111 - 26s/epoch - 12ms/step\n",
            "Epoch 11/50\n",
            "2070/2070 - 26s - loss: 2.2257 - accuracy: 0.3250 - val_loss: 2.2839 - val_accuracy: 0.3145 - 26s/epoch - 12ms/step\n",
            "Epoch 12/50\n",
            "2070/2070 - 26s - loss: 2.2089 - accuracy: 0.3295 - val_loss: 2.2720 - val_accuracy: 0.3149 - 26s/epoch - 12ms/step\n",
            "Epoch 13/50\n",
            "2070/2070 - 26s - loss: 2.1915 - accuracy: 0.3371 - val_loss: 2.2690 - val_accuracy: 0.3179 - 26s/epoch - 12ms/step\n",
            "Epoch 14/50\n",
            "2070/2070 - 26s - loss: 2.1771 - accuracy: 0.3408 - val_loss: 2.2562 - val_accuracy: 0.3246 - 26s/epoch - 13ms/step\n",
            "Epoch 15/50\n",
            "2070/2070 - 26s - loss: 2.1621 - accuracy: 0.3458 - val_loss: 2.2507 - val_accuracy: 0.3235 - 26s/epoch - 13ms/step\n",
            "Epoch 16/50\n",
            "2070/2070 - 26s - loss: 2.1508 - accuracy: 0.3495 - val_loss: 2.2464 - val_accuracy: 0.3275 - 26s/epoch - 13ms/step\n",
            "Epoch 17/50\n",
            "2070/2070 - 26s - loss: 2.1385 - accuracy: 0.3527 - val_loss: 2.2403 - val_accuracy: 0.3354 - 26s/epoch - 13ms/step\n",
            "Epoch 18/50\n",
            "2070/2070 - 26s - loss: 2.1275 - accuracy: 0.3574 - val_loss: 2.2342 - val_accuracy: 0.3339 - 26s/epoch - 13ms/step\n",
            "Epoch 19/50\n",
            "2070/2070 - 26s - loss: 2.1171 - accuracy: 0.3603 - val_loss: 2.2300 - val_accuracy: 0.3358 - 26s/epoch - 12ms/step\n",
            "Epoch 20/50\n",
            "2070/2070 - 26s - loss: 2.1068 - accuracy: 0.3642 - val_loss: 2.2251 - val_accuracy: 0.3353 - 26s/epoch - 12ms/step\n",
            "Epoch 21/50\n",
            "2070/2070 - 26s - loss: 2.0967 - accuracy: 0.3683 - val_loss: 2.2216 - val_accuracy: 0.3390 - 26s/epoch - 13ms/step\n",
            "Epoch 22/50\n",
            "2070/2070 - 17s - loss: 2.0876 - accuracy: 0.3698 - val_loss: 2.2182 - val_accuracy: 0.3413 - 17s/epoch - 8ms/step\n",
            "Epoch 23/50\n",
            "2070/2070 - 18s - loss: 2.0787 - accuracy: 0.3749 - val_loss: 2.2209 - val_accuracy: 0.3419 - 18s/epoch - 9ms/step\n",
            "Epoch 24/50\n",
            "2070/2070 - 18s - loss: 2.0705 - accuracy: 0.3758 - val_loss: 2.2188 - val_accuracy: 0.3436 - 18s/epoch - 8ms/step\n",
            "Epoch 25/50\n",
            "2070/2070 - 17s - loss: 2.0620 - accuracy: 0.3782 - val_loss: 2.2130 - val_accuracy: 0.3445 - 17s/epoch - 8ms/step\n",
            "Epoch 26/50\n",
            "2070/2070 - 17s - loss: 2.0541 - accuracy: 0.3812 - val_loss: 2.2101 - val_accuracy: 0.3459 - 17s/epoch - 8ms/step\n",
            "Epoch 27/50\n",
            "2070/2070 - 18s - loss: 2.0467 - accuracy: 0.3826 - val_loss: 2.2050 - val_accuracy: 0.3483 - 18s/epoch - 8ms/step\n",
            "Epoch 28/50\n",
            "2070/2070 - 18s - loss: 2.0403 - accuracy: 0.3851 - val_loss: 2.2066 - val_accuracy: 0.3484 - 18s/epoch - 8ms/step\n",
            "Epoch 29/50\n",
            "2070/2070 - 17s - loss: 2.0346 - accuracy: 0.3876 - val_loss: 2.2034 - val_accuracy: 0.3501 - 17s/epoch - 8ms/step\n",
            "Epoch 30/50\n",
            "2070/2070 - 17s - loss: 2.0280 - accuracy: 0.3891 - val_loss: 2.2031 - val_accuracy: 0.3525 - 17s/epoch - 8ms/step\n",
            "Epoch 31/50\n",
            "2070/2070 - 18s - loss: 2.0217 - accuracy: 0.3921 - val_loss: 2.2074 - val_accuracy: 0.3502 - 18s/epoch - 9ms/step\n",
            "Epoch 32/50\n",
            "2070/2070 - 17s - loss: 2.0170 - accuracy: 0.3920 - val_loss: 2.2039 - val_accuracy: 0.3513 - 17s/epoch - 8ms/step\n",
            "Epoch 33/50\n",
            "2070/2070 - 17s - loss: 2.0111 - accuracy: 0.3949 - val_loss: 2.2043 - val_accuracy: 0.3522 - 17s/epoch - 8ms/step\n"
          ]
        }
      ],
      "source": [
        "h=model.fit(\n",
        "    x_train,y_train,\n",
        "    validation_data=(x_test,y_test),\n",
        "    epochs=50, verbose=2,\n",
        "    callbacks=[\n",
        "               tf.keras.callbacks.EarlyStopping(monitor='val_accuracy',patience =3)\n",
        "    ]\n",
        ")"
      ]
    },
    {
      "cell_type": "code",
      "source": [
        "from matplotlib import pyplot as plt\n",
        "epochs_ran=len(h.history['loss'])\n",
        "\n",
        "plt.plot(range(0,epochs_ran), h.history['val_accuracy'],label='Validation')\n",
        "plt.plot(range(0,epochs_ran), h.history['accuracy'],label='Training')\n",
        "plt.legend()\n",
        "plt.show()"
      ],
      "metadata": {
        "colab": {
          "base_uri": "https://localhost:8080/",
          "height": 265
        },
        "id": "OSWTmoltomT7",
        "outputId": "42fb7c0f-23e4-4a19-c9f0-9eb3c271bf21"
      },
      "execution_count": null,
      "outputs": [
        {
          "output_type": "display_data",
          "data": {
            "image/png": "[encoded data removed]",
            "text/plain": [
              "<Figure size 432x288 with 1 Axes>"
            ]
          },
          "metadata": {
            "needs_background": "light"
          }
        }
      ]
    },
    {
      "cell_type": "markdown",
      "metadata": {
        "id": "dlHtog02ZgnE"
      },
      "source": [
        "## Task 8: Generate Names!"
      ]
    },
    {
      "cell_type": "code",
      "execution_count": null,
      "metadata": {
        "id": "9f50aTRcpt24"
      },
      "outputs": [],
      "source": [
        "def generate_names(seed):\n",
        "  for i in range(0,40):\n",
        "    seq = name_to_seq(seed)\n",
        "    padded=tf.keras.preprocessing.sequence.pad_sequences([seq],padding='pre',maxlen=max_len-1, truncating='pre')\n",
        "    pred=model.predict(padded)[0]\n",
        "    pred_char=index_to_char[tf.argmax(pred).numpy()]\n",
        "    seed+=pred_char\n",
        "\n",
        "    if pred_char =='\\t':\n",
        "      break\n",
        "  print(seed)"
      ]
    },
    {
      "cell_type": "code",
      "execution_count": null,
      "metadata": {
        "id": "faQ0FInlpt26",
        "colab": {
          "base_uri": "https://localhost:8080/"
        },
        "outputId": "55cac217-0c5c-4e66-a634-9a91821f61fa"
      },
      "outputs": [
        {
          "output_type": "stream",
          "name": "stdout",
          "text": [
            "black starl\t\n"
          ]
        }
      ],
      "source": [
        "generate_names('bl')"
      ]
    },
    {
      "cell_type": "code",
      "source": [
        ""
      ],
      "metadata": {
        "id": "P0bwfEhtqLdX"
      },
      "execution_count": null,
      "outputs": []
    }
  ],
  "metadata": {
    "accelerator": "GPU",
    "colab": {
      "collapsed_sections": [],
      "name": "Superhero Name Generator - Learner.ipynb",
      "provenance": []
    },
    "kernelspec": {
      "display_name": "Python 3",
      "language": "python",
      "name": "python3"
    },
    "language_info": {
      "codemirror_mode": {
        "name": "ipython",
        "version": 3
      },
      "file_extension": ".py",
      "mimetype": "text/x-python",
      "name": "python",
      "nbconvert_exporter": "python",
      "pygments_lexer": "ipython3",
      "version": "3.8.3"
    }
  },
  "nbformat": 4,
  "nbformat_minor": 0
}